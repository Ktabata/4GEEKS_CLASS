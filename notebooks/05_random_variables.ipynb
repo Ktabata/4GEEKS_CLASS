{
 "cells": [
  {
   "cell_type": "code",
   "execution_count": 2,
   "metadata": {},
   "outputs": [],
   "source": [
    "import numpy as np\n",
    "import matplotlib as plt\n",
    "import pandas as pd\n",
    "import random"
   ]
  },
  {
   "cell_type": "code",
   "execution_count": null,
   "metadata": {},
   "outputs": [],
   "source": [
    "#Hay una ruleta en un casino. La ruleta tiene 18 espacios rojos, 18 espacios negros y dos espacios verdes\n",
    "#Al girar la ruleta si sale rojo el aportador gana USD1, caso contrario el apostador pierde USD1\n",
    "#Desde el punto de vista del casino, si sale rojo el casino pierde USD1 y caso contrario el casino gana USD1\n",
    "ruleta = [\"rojo\"]*18 + [\"negro\"]*18 + [\"verde\"]*2\n",
    "\n",
    "#Simular 1000 estracciones\n",
    "#Cuanto gana o pierde el casino al final del experimento \n"
   ]
  },
  {
   "cell_type": "code",
   "execution_count": 13,
   "metadata": {},
   "outputs": [
    {
     "name": "stdout",
     "output_type": "stream",
     "text": [
      "Al final del experimento, el casino gana USD18\n"
     ]
    }
   ],
   "source": [
    "\n",
    "random.seed(2024)\n",
    "# Definir la ruleta\n",
    "ruleta = [\"rojo\"]*18 + [\"negro\"]*18 + [\"verde\"]*2\n",
    "ganancia_casino = 0\n",
    "for _ in range(1000):\n",
    "    resultado = random.choice(ruleta)\n",
    "    if(resultado == \"rojo\"):\n",
    "        ganancia_casino -=1\n",
    "    else:\n",
    "        ganancia_casino +=1\n",
    "print(f\"Al final del experimento, el casino {'gana' if ganancia_casino > 0 else 'pierde'} USD{abs(ganancia_casino)}\")"
   ]
  }
 ],
 "metadata": {
  "kernelspec": {
   "display_name": ".venv",
   "language": "python",
   "name": "python3"
  },
  "language_info": {
   "codemirror_mode": {
    "name": "ipython",
    "version": 3
   },
   "file_extension": ".py",
   "mimetype": "text/x-python",
   "name": "python",
   "nbconvert_exporter": "python",
   "pygments_lexer": "ipython3",
   "version": "3.12.1"
  }
 },
 "nbformat": 4,
 "nbformat_minor": 2
}
