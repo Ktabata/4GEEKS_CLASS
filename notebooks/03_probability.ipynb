{
 "cells": [
  {
   "cell_type": "markdown",
   "metadata": {},
   "source": [
    "# Probability\n",
    "## Introduction to Probabilities\n",
    "In 1814, Pierre-Simon Laplace wrote:  \n",
    "> Probability theory is nothing but common sense reduced to calculation. \n",
    "... [Probability] is thus simply a fraction whose numerator is the \n",
    "number of favorable cases and whose denominator is the number of all \n",
    "the cases possible ... when nothing leads us to expect that any one of \n",
    "these cases should occur more than any other.\n",
    "Laplace nailed it. To untangle a probability problem, all you have to do \n",
    "is define exactly what the cases are, and careful count the favorable \n",
    "and total cases. Let's be clear on our vocabulary words:\n",
    "- **Trial**\n",
    "A single occurrence with an outcome that is uncertain until we observe it.  \n",
    "*For example, rolling a single die.*\n",
    "- **Outcome**\n",
    "A possible result of a trial; one particular state of the world. What \n",
    "Laplace calls a **case.** *For example:* `4`.\n",
    "- **Sample Space**\n",
    "The set of all possible outcomes for the trial.   \n",
    "*For example,* `{1, 2, 3, 4, 5, 6}`.\n",
    "- **Event**\n",
    "A subset of the sample space, a set of outcomes that together have some \n",
    "property we are interested in.  \n",
    "*For example, the event \"even die roll\" is the set of outcomes* \n",
    "`{2, 4, 6}`.\n",
    "- **Probability**\n",
    "As Laplace said, the probability of an event with respect to a sample \n",
    "space is the \"number of favorable cases\" (outcomes from the sample space \n",
    "that are in the event) divided by the \"number of all the cases\" in the \n",
    "sample space (assuming \"nothing leads us to expect that any one of these \n",
    "cases should occur more than any other\"). Since this is a proper \n",
    "fraction, probability will always be a number between 0 (representing an \n",
    "impossible event) and 1 (representing a certain event).  \n",
    "*For example, the probability of an even die roll is 3/6 = 1/2.*"
   ]
  },
  {
   "cell_type": "code",
   "execution_count": 1,
   "metadata": {},
   "outputs": [],
   "source": [
    "import random # generador de números aleatorios\n",
    "import numpy as np\n",
    "import pandas as pd\n",
    "import matplotlib.pyplot as plt"
   ]
  },
  {
   "cell_type": "code",
   "execution_count": 5,
   "metadata": {},
   "outputs": [
    {
     "name": "stdout",
     "output_type": "stream",
     "text": [
      "1\n"
     ]
    }
   ],
   "source": [
    "#1.Generación de lanzamientos de una moneda, sello = o, cara = 1\n",
    "toss = random.randint(0,1)\n",
    "print(toss)\n"
   ]
  },
  {
   "cell_type": "code",
   "execution_count": 6,
   "metadata": {},
   "outputs": [
    {
     "name": "stdout",
     "output_type": "stream",
     "text": [
      "[0, 0, 0, 0, 0, 1, 1, 1, 0, 1]\n"
     ]
    }
   ],
   "source": [
    "#2 Generación de lanzamientos de monedas con una estructura de control for, if, while\n",
    "toss_results = []\n",
    "for i in range (10):\n",
    "    result = random.randint(0,1)\n",
    "    toss_results.append(result)\n",
    "print(toss_results)"
   ]
  },
  {
   "cell_type": "code",
   "execution_count": 7,
   "metadata": {},
   "outputs": [
    {
     "name": "stdout",
     "output_type": "stream",
     "text": [
      "[1, 0, 1, 0, 1, 1, 0, 1, 1, 1]\n"
     ]
    }
   ],
   "source": [
    "#3. Generación de lanzamiento de monedas controlado para ser reproducible\n",
    "random.seed(2024)\n",
    "toss_results = []\n",
    "for i in range (10):\n",
    "    result = random.randint(0,1)\n",
    "    toss_results.append(result)\n",
    "print(toss_results)"
   ]
  },
  {
   "cell_type": "code",
   "execution_count": 10,
   "metadata": {},
   "outputs": [
    {
     "name": "stdout",
     "output_type": "stream",
     "text": [
      "[1, 1, 1, 1, 0, 1, 0, 0, 0, 0]\n"
     ]
    },
    {
     "data": {
      "text/plain": [
       "0.5"
      ]
     },
     "execution_count": 10,
     "metadata": {},
     "output_type": "execute_result"
    }
   ],
   "source": [
    "#4. Calcular la probabilidad de que salga cara en 10 lanzamientos de moneda\n",
    "toss_results = []\n",
    "for i in range (10):\n",
    "    result = random.randint(0,1)\n",
    "    toss_results.append(result)\n",
    "print(toss_results)\n",
    "sum(toss_results)/len(toss_results) #Calcular la probabilidad sin necesidad de sumar a mano"
   ]
  },
  {
   "cell_type": "code",
   "execution_count": 11,
   "metadata": {},
   "outputs": [
    {
     "data": {
      "text/plain": [
       "0.499503"
      ]
     },
     "execution_count": 11,
     "metadata": {},
     "output_type": "execute_result"
    }
   ],
   "source": [
    "#4. Calcular la probabilidad de que salga cara en 10 lanzamientos de moneda\n",
    "toss_results = []\n",
    "for i in range (1000000):\n",
    "    result = random.randint(0,1)\n",
    "    toss_results.append(result)\n",
    "#print(toss_results)\n",
    "sum(toss_results)/len(toss_results)"
   ]
  },
  {
   "cell_type": "code",
   "execution_count": 12,
   "metadata": {},
   "outputs": [],
   "source": [
    "from fractions import Fraction "
   ]
  },
  {
   "cell_type": "code",
   "execution_count": 14,
   "metadata": {},
   "outputs": [
    {
     "data": {
      "text/plain": [
       "Fraction(1, 3)"
      ]
     },
     "execution_count": 14,
     "metadata": {},
     "output_type": "execute_result"
    }
   ],
   "source": [
    "Fraction(1,3) #es un tipo de dato para representar un fracción en python"
   ]
  },
  {
   "cell_type": "code",
   "execution_count": 15,
   "metadata": {},
   "outputs": [
    {
     "data": {
      "text/plain": [
       "{2, 4, 6}"
      ]
     },
     "execution_count": 15,
     "metadata": {},
     "output_type": "execute_result"
    }
   ],
   "source": [
    "#2 Calcular probabilidad de sacar par en un lanzamiento de dados\n",
    "even = {2,4,6}\n",
    "points = {1,2,3,4,5,6} #Asumimos que el dado esta perfectamente balanceado\n",
    "set.intersection(even,points)"
   ]
  },
  {
   "cell_type": "code",
   "execution_count": 16,
   "metadata": {},
   "outputs": [],
   "source": [
    "def Pr(event,space):\n",
    "    return Fraction(len(set.intersection(even,space)),len(space))"
   ]
  },
  {
   "cell_type": "code",
   "execution_count": 17,
   "metadata": {},
   "outputs": [
    {
     "data": {
      "text/plain": [
       "Fraction(1, 2)"
      ]
     },
     "execution_count": 17,
     "metadata": {},
     "output_type": "execute_result"
    }
   ],
   "source": [
    "Pr(even,points)"
   ]
  },
  {
   "cell_type": "code",
   "execution_count": 19,
   "metadata": {},
   "outputs": [
    {
     "data": {
      "text/plain": [
       "Fraction(1, 2)"
      ]
     },
     "execution_count": 19,
     "metadata": {},
     "output_type": "execute_result"
    }
   ],
   "source": [
    "#Calcular la probabilidad de obtener cinco o seis en un lanzamiento de dados\n",
    "succes = {5,6}\n",
    "points = {1,2,3,4,5,6}\n",
    "Pr(succes,points)"
   ]
  },
  {
   "cell_type": "code",
   "execution_count": 21,
   "metadata": {},
   "outputs": [],
   "source": [
    "#This refers to a discrete sample space, so the probability is related to a discrete event"
   ]
  },
  {
   "cell_type": "code",
   "execution_count": 27,
   "metadata": {},
   "outputs": [
    {
     "data": {
      "text/plain": [
       "array([1])"
      ]
     },
     "execution_count": 27,
     "metadata": {},
     "output_type": "execute_result"
    }
   ],
   "source": [
    "# box1 = [1,0,0,0] #La probabilidad de éxito es de 1/4 = 0,25\n",
    "# box2 = [1,1,0,0,0] #La probabilidad de éxito es de 2/5 = 0.4\n",
    "box1 = np.array([1,0,0,0]) #Este es un vector ([])\n",
    "np.random.choice(box1,1) #Simula el evento de sacar una piedra"
   ]
  },
  {
   "cell_type": "code",
   "execution_count": 31,
   "metadata": {},
   "outputs": [
    {
     "data": {
      "text/plain": [
       "np.float64(0.24986)"
      ]
     },
     "execution_count": 31,
     "metadata": {},
     "output_type": "execute_result"
    }
   ],
   "source": [
    "trial = np.random.choice(box1,100000)\n",
    "trial.mean()"
   ]
  },
  {
   "cell_type": "code",
   "execution_count": 32,
   "metadata": {},
   "outputs": [
    {
     "data": {
      "text/plain": [
       "np.float64(0.39997)"
      ]
     },
     "execution_count": 32,
     "metadata": {},
     "output_type": "execute_result"
    }
   ],
   "source": [
    "box2 = np.array([1,0,1,0,0])\n",
    "trial = np.random.choice(box2,100000)\n",
    "trial.mean() #Aquí funciona mean()porque solo hay dos resultados 0 y 1 y además el resultado exitoso es 1"
   ]
  },
  {
   "cell_type": "code",
   "execution_count": null,
   "metadata": {},
   "outputs": [],
   "source": [
    "#Cuando son mas de dos resultados\n",
    "success = np.isin(trial,[1])\n",
    "probability = len(trial[success])/len(trial)"
   ]
  },
  {
   "cell_type": "code",
   "execution_count": 40,
   "metadata": {},
   "outputs": [
    {
     "data": {
      "text/plain": [
       "0.2"
      ]
     },
     "execution_count": 40,
     "metadata": {},
     "output_type": "execute_result"
    }
   ],
   "source": [
    "np.random.seed(2024)\n",
    "yankenpo = np.array([1,2,3])\n",
    "trial = np.random.choice(yankenpo,10)\n",
    "success = np.isin(trial,[2]) #isin nos retorna un vector de booleanos\n",
    "probability = len(trial[success])/len(trial)\n",
    "probability"
   ]
  },
  {
   "cell_type": "code",
   "execution_count": 37,
   "metadata": {},
   "outputs": [
    {
     "data": {
      "text/plain": [
       "array([False, False, False,  True, False, False, False,  True, False,\n",
       "       False])"
      ]
     },
     "execution_count": 37,
     "metadata": {},
     "output_type": "execute_result"
    }
   ],
   "source": [
    "yankenpo\n",
    "trial\n",
    "success"
   ]
  },
  {
   "cell_type": "code",
   "execution_count": 38,
   "metadata": {},
   "outputs": [
    {
     "data": {
      "text/plain": [
       "array([1, 3, 3, 2, 1, 1, 3, 2, 3, 3])"
      ]
     },
     "execution_count": 38,
     "metadata": {},
     "output_type": "execute_result"
    }
   ],
   "source": [
    "trial"
   ]
  },
  {
   "cell_type": "code",
   "execution_count": 39,
   "metadata": {},
   "outputs": [
    {
     "data": {
      "text/plain": [
       "array([2, 2])"
      ]
     },
     "execution_count": 39,
     "metadata": {},
     "output_type": "execute_result"
    }
   ],
   "source": [
    "trial[success] #Esto es lo que se conoce como mascara, solo devuelve los casos de exito"
   ]
  },
  {
   "cell_type": "code",
   "execution_count": 41,
   "metadata": {},
   "outputs": [
    {
     "data": {
      "text/plain": [
       "array([21])"
      ]
     },
     "execution_count": 41,
     "metadata": {},
     "output_type": "execute_result"
    }
   ],
   "source": [
    "results = np.array([14,22,21,15,18,23,19])\n",
    "success = np.isin(results,[21])\n",
    "results[success]"
   ]
  },
  {
   "cell_type": "code",
   "execution_count": 46,
   "metadata": {},
   "outputs": [
    {
     "ename": "TypeError",
     "evalue": "Cannot cast array data from dtype('float64') to dtype('int64') according to the rule 'safe'",
     "output_type": "error",
     "traceback": [
      "\u001b[0;31m---------------------------------------------------------------------------\u001b[0m",
      "\u001b[0;31mTypeError\u001b[0m                                 Traceback (most recent call last)",
      "Cell \u001b[0;32mIn[46], line 21\u001b[0m\n\u001b[1;32m     19\u001b[0m     bday \u001b[38;5;241m=\u001b[39m np\u001b[38;5;241m.\u001b[39mrandom\u001b[38;5;241m.\u001b[39mchoice(days,n)\n\u001b[1;32m     20\u001b[0m     \u001b[38;5;28;01mreturn\u001b[39;00m np\u001b[38;5;241m.\u001b[39many(np\u001b[38;5;241m.\u001b[39mbincount(bday)\u001b[38;5;241m>\u001b[39m\u001b[38;5;241m1\u001b[39m)\n\u001b[0;32m---> 21\u001b[0m \u001b[43msame_birthday\u001b[49m\u001b[43m(\u001b[49m\u001b[38;5;241;43m10\u001b[39;49m\u001b[43m)\u001b[49m\n",
      "Cell \u001b[0;32mIn[46], line 20\u001b[0m, in \u001b[0;36msame_birthday\u001b[0;34m(n)\u001b[0m\n\u001b[1;32m     18\u001b[0m days \u001b[38;5;241m=\u001b[39m np\u001b[38;5;241m.\u001b[39mlinspace(\u001b[38;5;241m1\u001b[39m,\u001b[38;5;241m366\u001b[39m,)\n\u001b[1;32m     19\u001b[0m bday \u001b[38;5;241m=\u001b[39m np\u001b[38;5;241m.\u001b[39mrandom\u001b[38;5;241m.\u001b[39mchoice(days,n)\n\u001b[0;32m---> 20\u001b[0m \u001b[38;5;28;01mreturn\u001b[39;00m np\u001b[38;5;241m.\u001b[39many(\u001b[43mnp\u001b[49m\u001b[38;5;241;43m.\u001b[39;49m\u001b[43mbincount\u001b[49m\u001b[43m(\u001b[49m\u001b[43mbday\u001b[49m\u001b[43m)\u001b[49m\u001b[38;5;241m>\u001b[39m\u001b[38;5;241m1\u001b[39m)\n",
      "\u001b[0;31mTypeError\u001b[0m: Cannot cast array data from dtype('float64') to dtype('int64') according to the rule 'safe'"
     ]
    }
   ],
   "source": [
    "#3 El siquiente problema muestra la probabilidad condicional\n",
    "#Cuál es la probabilidad de sacar un As en una segunda extracción si en la primera estracción ya saque un As\n",
    "#Cuántos ases hay en un baraja: 4\n",
    "#Cuántps naipes hay en una baraja: 52\n",
    "#Cuál es la probabilidad de sacar en la primera extracción un As: 4/52 = 1/13\n",
    "#Si ya saqué un As de la baraja, Cuántos naipes me quedan: 51 y 3 Ases\n",
    "#En una seguna extracción, la probabilidad de sacar un As sería: Pr(Sacar As en segunda extracción dado que se sacó un as en la primera extracción)\n",
    "#Por lo tanto, esto quiere decir que esta probabilidad esta condicionada al evento de haber sacado un As en la primera extración\n",
    "#la fórmula para calcularlo sería Pr=3/51\n",
    "#Pr(A and B) = Pr(A)*Pr(B|A)\n",
    "#Si A y B son Independientes entonces Pr(A|B) = Pr(A)\n",
    "#Pr( A and B and C) = Pr(A)*Pr(B|A)*Pr(C|A and B) Regla de la cadena\n",
    "#Pr (A or B) = Pr(A)+Pr(B)-Pr(A and B)\n",
    "#En un avión hay 3 bombas, cada bomba tiene 0.4 probabilidades de explotar, entonces cuál es la probabilidad de que la segúnda bomba explote\n",
    "#Cuál es la probabilidad de que las tres bombas exploten Pr(A and B and C)= Pr(A)*Pr(B)*Pr(c) = 0.4*0.4*0.4\n",
    "#Cuál es la probabilidad de que en una sala con 10 personas dos cumplan años el mismo día. Y en una sala con 20 personas y en una sala con 30 personas y en una sala con 50 personas\n",
    "def same_birthday(n):\n",
    "    days = np.linspace(1,366,)\n",
    "    bday = np.random.choice(days,n)\n",
    "    return np.any(np.bincount(bday)>1)\n",
    "same_birthday(10)"
   ]
  },
  {
   "cell_type": "code",
   "execution_count": 44,
   "metadata": {},
   "outputs": [
    {
     "data": {
      "text/plain": [
       "array([ 1,  2,  3,  4,  5,  6,  7,  8,  9, 10])"
      ]
     },
     "execution_count": 44,
     "metadata": {},
     "output_type": "execute_result"
    }
   ],
   "source": [
    "np.arange(1,11)"
   ]
  },
  {
   "cell_type": "code",
   "execution_count": 50,
   "metadata": {},
   "outputs": [
    {
     "ename": "IndentationError",
     "evalue": "expected an indented block after 'for' statement on line 7 (1401378940.py, line 8)",
     "output_type": "error",
     "traceback": [
      "\u001b[0;36m  Cell \u001b[0;32mIn[50], line 8\u001b[0;36m\u001b[0m\n\u001b[0;31m    if same_birthday(10):\u001b[0m\n\u001b[0m    ^\u001b[0m\n\u001b[0;31mIndentationError\u001b[0m\u001b[0;31m:\u001b[0m expected an indented block after 'for' statement on line 7\n"
     ]
    }
   ],
   "source": [
    "def same_birthday(n):\n",
    "    days = np.arange(1,366,)\n",
    "    bday = np.random.choice(days,n)\n",
    "    return np.any(np.bincount(bday)>1)\n",
    "same_birthday(10)\n",
    "counter = 0\n",
    "for i in range (10000):\n",
    "if same_birthday(10):\n",
    "    counter +=1\n",
    "counter/10000"
   ]
  }
 ],
 "metadata": {
  "kernelspec": {
   "display_name": ".venv",
   "language": "python",
   "name": "python3"
  },
  "language_info": {
   "codemirror_mode": {
    "name": "ipython",
    "version": 3
   },
   "file_extension": ".py",
   "mimetype": "text/x-python",
   "name": "python",
   "nbconvert_exporter": "python",
   "pygments_lexer": "ipython3",
   "version": "3.12.1"
  }
 },
 "nbformat": 4,
 "nbformat_minor": 2
}
